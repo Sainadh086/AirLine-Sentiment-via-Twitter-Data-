{
 "cells": [
  {
   "cell_type": "markdown",
   "metadata": {},
   "source": [
    "## Using a simple Neural Network Model\n",
    "#### - Building a neural network model using keras\n",
    "#### - Using the Undersampled Data with Neural Net\n",
    "#### - Using all the data and applying the same model"
   ]
  },
  {
   "cell_type": "markdown",
   "metadata": {},
   "source": [
    "### Loading our data\n",
    "### Using TF-IDF Model"
   ]
  },
  {
   "cell_type": "code",
   "execution_count": 1,
   "metadata": {},
   "outputs": [],
   "source": [
    "import pandas as pd\n",
    "import numpy as np\n",
    "from nlp_train import tfidf_predict"
   ]
  },
  {
   "cell_type": "code",
   "execution_count": 2,
   "metadata": {},
   "outputs": [],
   "source": [
    "train = pd.read_csv('ExportedData/train.csv')\n",
    "test = pd.read_csv('ExportedData/test.csv')"
   ]
  },
  {
   "cell_type": "code",
   "execution_count": 3,
   "metadata": {},
   "outputs": [],
   "source": [
    "X_train_tfidf = tfidf_predict(train.text.values)\n",
    "y_train = train['airline_sentiment'].values\n",
    "X_test_tfidf = tfidf_predict(test.text.values)\n",
    "y_test = test['airline_sentiment'].values"
   ]
  },
  {
   "cell_type": "code",
   "execution_count": 4,
   "metadata": {},
   "outputs": [],
   "source": [
    "X_train = X_train_tfidf.toarray()\n",
    "X_test = X_test_tfidf.toarray()"
   ]
  },
  {
   "cell_type": "markdown",
   "metadata": {},
   "source": [
    "### Bulding a Neural Network Model with TensorFlow"
   ]
  },
  {
   "cell_type": "code",
   "execution_count": 6,
   "metadata": {},
   "outputs": [],
   "source": [
    "import tensorflow as tf\n",
    "from tensorflow.keras import Sequential,regularizers\n",
    "from tensorflow.keras.layers import Dense, Dropout, BatchNormalization"
   ]
  },
  {
   "cell_type": "code",
   "execution_count": 7,
   "metadata": {},
   "outputs": [],
   "source": [
    "def dense_net(vocab_size):\n",
    "    net = Sequential()\n",
    "    net.add(Dense(64, activation = 'relu',input_shape = (vocab_size,),kernel_regularizer=regularizers.l2(l2=0.001)))\n",
    "    net.add(BatchNormalization())\n",
    "    net.add(Dropout(0.25))\n",
    "    net.add(Dense(32,activation='relu'))\n",
    "    net.add(Dropout(0.5))\n",
    "    net.add(Dense(1,activation='sigmoid'))\n",
    "    return net"
   ]
  },
  {
   "cell_type": "markdown",
   "metadata": {},
   "source": [
    "### Training the Model"
   ]
  },
  {
   "cell_type": "code",
   "execution_count": 8,
   "metadata": {},
   "outputs": [],
   "source": [
    "def train_model(X_train,y_train, model):\n",
    "    model.compile(loss=\"binary_crossentropy\", optimizer=\"rmsprop\", metrics=[\"accuracy\"])\n",
    "    history = model.fit(X_train,y_train, validation_split = 0.2, batch_size = 15, shuffle =True, verbose =2, epochs = 20,\n",
    "         callbacks =[tf.keras.callbacks.EarlyStopping(patience=2)],\n",
    "                       use_multiprocessing=True)\n",
    "    return history"
   ]
  },
  {
   "cell_type": "markdown",
   "metadata": {},
   "source": [
    "### Ploting our model metrics"
   ]
  },
  {
   "cell_type": "code",
   "execution_count": 9,
   "metadata": {},
   "outputs": [],
   "source": [
    "import matplotlib.pyplot as plt\n",
    "%matplotlib inline\n",
    "\n",
    "# summarize history for accuracy\n",
    "def plot_model(history):\n",
    "    plt.plot(history.history['accuracy'])\n",
    "    plt.plot(history.history['val_accuracy'])\n",
    "    plt.title('model accuracy')\n",
    "    plt.ylabel('accuracy')\n",
    "    plt.xlabel('epoch')\n",
    "    plt.legend(['train', 'test'], loc='upper left')\n",
    "    plt.show()\n",
    "    # summarize history for loss\n",
    "    plt.plot(history.history['loss'])\n",
    "    plt.plot(history.history['val_loss'])\n",
    "    plt.title('model loss')\n",
    "    plt.ylabel('loss')\n",
    "    plt.xlabel('epoch')\n",
    "    plt.legend(['train', 'test'], loc='upper left')\n",
    "    plt.show()"
   ]
  },
  {
   "cell_type": "markdown",
   "metadata": {},
   "source": [
    "### Training our Model"
   ]
  },
  {
   "cell_type": "code",
   "execution_count": 10,
   "metadata": {},
   "outputs": [
    {
     "name": "stdout",
     "output_type": "stream",
     "text": [
      "Model: \"sequential\"\n",
      "_________________________________________________________________\n",
      "Layer (type)                 Output Shape              Param #   \n",
      "=================================================================\n",
      "dense (Dense)                (None, 64)                105600    \n",
      "_________________________________________________________________\n",
      "batch_normalization (BatchNo (None, 64)                256       \n",
      "_________________________________________________________________\n",
      "dropout (Dropout)            (None, 64)                0         \n",
      "_________________________________________________________________\n",
      "dense_1 (Dense)              (None, 32)                2080      \n",
      "_________________________________________________________________\n",
      "dropout_1 (Dropout)          (None, 32)                0         \n",
      "_________________________________________________________________\n",
      "dense_2 (Dense)              (None, 1)                 33        \n",
      "=================================================================\n",
      "Total params: 107,969\n",
      "Trainable params: 107,841\n",
      "Non-trainable params: 128\n",
      "_________________________________________________________________\n",
      "Epoch 1/20\n",
      "214/214 - 1s - loss: 0.4574 - accuracy: 0.7853 - val_loss: 1.1594 - val_accuracy: 0.0012\n",
      "Epoch 2/20\n",
      "214/214 - 0s - loss: 0.2600 - accuracy: 0.9069 - val_loss: 0.8563 - val_accuracy: 0.4675\n",
      "Epoch 3/20\n",
      "214/214 - 0s - loss: 0.2348 - accuracy: 0.9150 - val_loss: 0.3401 - val_accuracy: 0.8825\n",
      "Epoch 4/20\n",
      "214/214 - 0s - loss: 0.2062 - accuracy: 0.9262 - val_loss: 0.2210 - val_accuracy: 0.9362\n",
      "Epoch 5/20\n",
      "214/214 - 0s - loss: 0.2019 - accuracy: 0.9291 - val_loss: 0.4729 - val_accuracy: 0.8300\n",
      "Epoch 6/20\n",
      "214/214 - 0s - loss: 0.1958 - accuracy: 0.9297 - val_loss: 0.2889 - val_accuracy: 0.9150\n"
     ]
    },
    {
     "data": {
      "image/png": "[encoded data removed]",
      "text/plain": [
       "<Figure size 432x288 with 1 Axes>"
      ]
     },
     "metadata": {
      "needs_background": "light"
     },
     "output_type": "display_data"
    },
    {
     "data": {
      "image/png": "[encoded data removed]",
      "text/plain": [
       "<Figure size 432x288 with 1 Axes>"
      ]
     },
     "metadata": {
      "needs_background": "light"
     },
     "output_type": "display_data"
    }
   ],
   "source": [
    "model = dense_net(vocab_size=len(X_train[1]))\n",
    "model.summary()\n",
    "his  = train_model(X_train,y_train, model=model)\n",
    "plot_model(his)"
   ]
  },
  {
   "cell_type": "markdown",
   "metadata": {},
   "source": [
    "## Testing with all the data"
   ]
  },
  {
   "cell_type": "markdown",
   "metadata": {},
   "source": [
    "##### Here we take all the data to check whether my decision of imbalanced data was correct or wrong.\n",
    "\n",
    "- This results are after fine tuning my model for a long time. \n",
    "- Initially the results I got are expected but after tweaking my model a little bit it out performed all my previous results\n"
   ]
  },
  {
   "cell_type": "code",
   "execution_count": 11,
   "metadata": {},
   "outputs": [],
   "source": [
    "data = pd.read_csv('airline_sentiment_analysis.csv')"
   ]
  },
  {
   "cell_type": "code",
   "execution_count": 12,
   "metadata": {},
   "outputs": [],
   "source": [
    "data['airline_sentiment'].replace('positive',0, inplace=True)\n",
    "data['airline_sentiment'].replace('negative',1,inplace=True)"
   ]
  },
  {
   "cell_type": "code",
   "execution_count": 13,
   "metadata": {},
   "outputs": [],
   "source": [
    "X = data['text'].values\n",
    "y = data['airline_sentiment'].values"
   ]
  },
  {
   "cell_type": "code",
   "execution_count": 14,
   "metadata": {},
   "outputs": [],
   "source": [
    "from sklearn.model_selection import train_test_split\n",
    "X_tr,X_te,y_tr,y_te = train_test_split(X,y, test_size = 0.2, random_state=8)"
   ]
  },
  {
   "cell_type": "code",
   "execution_count": 15,
   "metadata": {},
   "outputs": [],
   "source": [
    "rand_data = pd.DataFrame({'text':X_te,'airline_sentiment':y_te})\n",
    "rand_data.to_csv('ranadom_data.csv')"
   ]
  },
  {
   "cell_type": "code",
   "execution_count": 16,
   "metadata": {},
   "outputs": [],
   "source": [
    "from nlp_train import text_prepare\n",
    "from sklearn.feature_extraction.text import TfidfVectorizer\n",
    "X_tr = [text_prepare(x) for x in X_tr]\n",
    "X_te = [text_prepare(x) for x in X_te]"
   ]
  },
  {
   "cell_type": "markdown",
   "metadata": {},
   "source": [
    "#### Training a new TF-IDF Model\n",
    "- Initially I skipped most of the data\n",
    "- Here I am using all the data provided to me"
   ]
  },
  {
   "cell_type": "code",
   "execution_count": 17,
   "metadata": {},
   "outputs": [],
   "source": [
    "def tfidf_train(X_train,X_test):\n",
    "    tfidf_vectorizer = TfidfVectorizer(min_df=5, max_df=0.9, ngram_range=(1, 1))\n",
    "    X_train = tfidf_vectorizer.fit_transform(X_train)\n",
    "    X_test = tfidf_vectorizer.transform(X_test)\n",
    "    return X_train,X_test"
   ]
  },
  {
   "cell_type": "code",
   "execution_count": 18,
   "metadata": {},
   "outputs": [],
   "source": [
    "X_tr_tfidf,X_ts_tfidf = tfidf_train(X_tr,X_te)"
   ]
  },
  {
   "cell_type": "code",
   "execution_count": 19,
   "metadata": {},
   "outputs": [],
   "source": [
    "X_tr_np = X_tr_tfidf.toarray()\n",
    "X_ts_np = X_ts_tfidf.toarray()"
   ]
  },
  {
   "cell_type": "markdown",
   "metadata": {},
   "source": [
    "### Training"
   ]
  },
  {
   "cell_type": "code",
   "execution_count": 20,
   "metadata": {},
   "outputs": [
    {
     "name": "stdout",
     "output_type": "stream",
     "text": [
      "Epoch 1/20\n",
      "493/493 - 1s - loss: 0.3738 - accuracy: 0.8539 - val_loss: 0.3143 - val_accuracy: 0.8641\n",
      "Epoch 2/20\n",
      "493/493 - 1s - loss: 0.2874 - accuracy: 0.8944 - val_loss: 0.2630 - val_accuracy: 0.9004\n",
      "Epoch 3/20\n",
      "493/493 - 1s - loss: 0.2794 - accuracy: 0.8990 - val_loss: 0.2616 - val_accuracy: 0.9020\n",
      "Epoch 4/20\n",
      "493/493 - 1s - loss: 0.2792 - accuracy: 0.9012 - val_loss: 0.2669 - val_accuracy: 0.8960\n",
      "Epoch 5/20\n",
      "493/493 - 1s - loss: 0.2727 - accuracy: 0.9013 - val_loss: 0.2750 - val_accuracy: 0.8977\n"
     ]
    },
    {
     "data": {
      "image/png": "[encoded data removed]",
      "text/plain": [
       "<Figure size 432x288 with 1 Axes>"
      ]
     },
     "metadata": {
      "needs_background": "light"
     },
     "output_type": "display_data"
    },
    {
     "data": {
      "image/png": "[encoded data removed]",
      "text/plain": [
       "<Figure size 432x288 with 1 Axes>"
      ]
     },
     "metadata": {
      "needs_background": "light"
     },
     "output_type": "display_data"
    }
   ],
   "source": [
    "model_all = dense_net(vocab_size=len(X_tr_np[1]))\n",
    "his = train_model(X_train=X_tr_np,y_train=y_tr,model=model_all)\n",
    "plot_model(his)"
   ]
  },
  {
   "cell_type": "markdown",
   "metadata": {},
   "source": [
    "### Predicting and Comparing the results\n",
    "\n",
    "- We had taken twos sets of data from the same dataset.\n",
    "- Comparing the results\n",
    "- What I had learned so far"
   ]
  },
  {
   "cell_type": "code",
   "execution_count": 36,
   "metadata": {},
   "outputs": [],
   "source": [
    "y_pred = model_all.predict(X_ts_np)"
   ]
  },
  {
   "cell_type": "code",
   "execution_count": 37,
   "metadata": {},
   "outputs": [],
   "source": [
    "def sigmoid(x):\n",
    "    if x>0.5:\n",
    "        return 1\n",
    "    else:\n",
    "        return 0\n",
    "y_pred = [sigmoid(i) for i in y_pred]"
   ]
  },
  {
   "cell_type": "code",
   "execution_count": 39,
   "metadata": {},
   "outputs": [],
   "source": [
    "from sklearn.metrics import confusion_matrix as cm, accuracy_score as ac, f1_score\n",
    "def test_metrics(y_test,y_pred):\n",
    "    print(\"Confusion Matrix \\n\",cm(y_test,y_pred))\n",
    "    print(\"F1 score \\n\",f1_score(y_test,y_pred))"
   ]
  },
  {
   "cell_type": "markdown",
   "metadata": {},
   "source": [
    "### Using the Undersampled Data for prediction"
   ]
  },
  {
   "cell_type": "code",
   "execution_count": 42,
   "metadata": {},
   "outputs": [
    {
     "name": "stdout",
     "output_type": "stream",
     "text": [
      "Confusion Matrix \n",
      " [[324  39]\n",
      " [ 53 310]]\n",
      "F1 score \n",
      " 0.8707865168539326\n"
     ]
    }
   ],
   "source": [
    "y_real = model.predict(X_test)\n",
    "y_real = [sigmoid(i) for i in y_real]\n",
    "test_metrics(y_test,y_real)"
   ]
  },
  {
   "cell_type": "markdown",
   "metadata": {},
   "source": [
    "### Using the sample data"
   ]
  },
  {
   "cell_type": "code",
   "execution_count": 41,
   "metadata": {},
   "outputs": [
    {
     "name": "stdout",
     "output_type": "stream",
     "text": [
      "Confusion Matrix \n",
      " [[ 311  169]\n",
      " [  31 1798]]\n",
      "F1 score \n",
      " 0.9473129610115912\n"
     ]
    }
   ],
   "source": [
    "test_metrics(y_te,y_pred)"
   ]
  },
  {
   "cell_type": "markdown",
   "metadata": {},
   "source": [
    "### Results\n",
    "\n",
    "- Choosing more data helps your model to learn more but it overfits agressively. Avoiding Overfitting results in  a good model.\n",
    "- Using UnderSampled data also resulted in a descent performance model. Also avoided bias of the model."
   ]
  },
  {
   "cell_type": "markdown",
   "metadata": {},
   "source": [
    "### Conclusion\n",
    "\n",
    "- In the initial steps on this project I had seen that data is more tend towards the negative tweets and some words are commonly used in both positive and negative tweets.\n",
    "- In choosing Machine Learning I wanted to go with a linear and a probalistic model. The results there are very similar.\n",
    "- While going with Deep Learning model, I tried different models like Simple neural network, LSTM, Bidirectional LSTM. But the training times on them is so huge. With a Simple neural network model I acheived better results."
   ]
  },
  {
   "cell_type": "markdown",
   "metadata": {},
   "source": [
    "### Choosing the quantity of data really depends on the target values. \n",
    "If there is a huge amount of data."
   ]
  }
 ],
 "metadata": {
  "kernelspec": {
   "display_name": "Python 3",
   "language": "python",
   "name": "python3"
  },
  "language_info": {
   "codemirror_mode": {
    "name": "ipython",
    "version": 3
   },
   "file_extension": ".py",
   "mimetype": "text/x-python",
   "name": "python",
   "nbconvert_exporter": "python",
   "pygments_lexer": "ipython3",
   "version": "3.6.8"
  }
 },
 "nbformat": 4,
 "nbformat_minor": 4
}
